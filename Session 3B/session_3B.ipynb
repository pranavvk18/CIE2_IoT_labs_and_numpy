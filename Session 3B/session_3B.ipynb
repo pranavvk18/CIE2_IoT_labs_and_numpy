{
 "cells": [
  {
   "cell_type": "markdown",
   "metadata": {},
   "source": [
    "ses3B_dotProd"
   ]
  },
  {
   "cell_type": "code",
   "execution_count": 1,
   "metadata": {},
   "outputs": [],
   "source": [
    "import array as arr\n",
    "import numpy as np\n",
    "import time"
   ]
  },
  {
   "cell_type": "markdown",
   "metadata": {},
   "source": [
    "Arrays are more memory-efficient than lists"
   ]
  },
  {
   "cell_type": "markdown",
   "metadata": {},
   "source": [
    "Performance measurements using two methods\n",
    "\n",
    "1)`process_time_ns()`:Only measures the process excution time\n",
    "\n",
    "2)`perf_counter_ns()`: This much more granular and measure I/O wait time also which makes it perfect for overall performance measurements."
   ]
  },
  {
   "cell_type": "code",
   "execution_count": 2,
   "metadata": {},
   "outputs": [
    {
     "name": "stdout",
     "output_type": "stream",
     "text": [
      "Dot product computed without NumPy:  333328333350000.0\n",
      "Perf count in nsecs without NumPy:  18030600\n",
      "18030600\n",
      "<class 'int'>\n"
     ]
    }
   ],
   "source": [
    "# Array is created with the values from 0 to 99999\n",
    "A = arr.array('d', range(100000)) \n",
    "B = arr.array('d', range(100000))\n",
    "# classic dot product of vectors in Python\n",
    "Dot = 0.0;\n",
    "# Measure the start and end times in nano seconds.\n",
    "#startTime = time.process_time_ns() \n",
    "startTime = time.perf_counter_ns() \n",
    "for i in range(len(A)): \n",
    "      Dot += A[i] * B[i]\n",
    "      \n",
    "endTime = time.perf_counter_ns() \n",
    "\n",
    "print('Dot product computed without NumPy: ', Dot)\n",
    "print('Perf count in nsecs without NumPy: ', endTime-startTime)\n",
    "pyPerfCount = endTime-startTime\n",
    "print(pyPerfCount)\n",
    "print(type(endTime))"
   ]
  },
  {
   "cell_type": "markdown",
   "metadata": {},
   "source": [
    "Now find out the time taken to calculate the dot product in `np.arry`"
   ]
  },
  {
   "cell_type": "code",
   "execution_count": 3,
   "metadata": {},
   "outputs": [
    {
     "name": "stdout",
     "output_type": "stream",
     "text": [
      "Type of returned value from np.dot() is  <class 'numpy.float64'>\n",
      "Dot product computed with NumPy:  333328333350000.0\n",
      "Perf count in nsecs with NumPy:  726800\n"
     ]
    }
   ],
   "source": [
    "npA = np.array(A)\n",
    "npB = np.array(B)\n",
    "startTime = time.perf_counter_ns() \n",
    "\n",
    "# Using the same Python arrays A, B perform dot product using np funtion dot()\n",
    "npDot = np.dot(npA, npB) # Here pointers to the arrays are passed\n",
    "endTime = time.perf_counter_ns()\n",
    "print('Type of returned value from np.dot() is ', type(npDot))\n",
    "print('Dot product computed with NumPy: ', npDot)\n",
    "print('Perf count in nsecs with NumPy: ', endTime-startTime)\n",
    "npPerfCount = endTime-startTime"
   ]
  },
  {
   "cell_type": "code",
   "execution_count": 4,
   "metadata": {},
   "outputs": [
    {
     "name": "stdout",
     "output_type": "stream",
     "text": [
      "Improvement in performance because of NumPy is  24\n"
     ]
    }
   ],
   "source": [
    "print(\"Improvement in performance because of NumPy is \", \n",
    "        int(pyPerfCount/npPerfCount))\n"
   ]
  },
  {
   "cell_type": "markdown",
   "metadata": {},
   "source": [
    "The reason why `np.array` calculates the dot product faster than Python's built-in `array.array` is as follows\n",
    "\n",
    "1)Vectorization in NumPy:\n",
    "\n",
    "  The operation is highly optimized and runs at the compiled C-level, not at the Python interpreter level.\n",
    "  \n",
    "  Vectorization refers to the ability to apply an operation (like addition, multiplication) to entire arrays without using explicit loops in Python. In contrast, in a Python loop (like the for loop in your array.array implementation), the interpreter executes each iteration, which involves overhead for managing the loop\n",
    "\n",
    "2)Low-Level Optimizations in NumPy:\n",
    "\n",
    "  NumPy uses SIMD (Single Instruction, Multiple Data) and other low-level optimizations to process large chunks of data at once.\n",
    "\n",
    "3)Memory Contiguity\n"
   ]
  },
  {
   "cell_type": "markdown",
   "metadata": {},
   "source": [
    "`out` parameter:"
   ]
  },
  {
   "cell_type": "code",
   "execution_count": 5,
   "metadata": {},
   "outputs": [
    {
     "name": "stdout",
     "output_type": "stream",
     "text": [
      "type of npVal is  <class 'numpy.ndarray'>  and npVal =  333328333350000.0\n",
      "Typeof chkVal is  <class 'numpy.float64'>  and chkVal is  333328333350000.0\n"
     ]
    }
   ],
   "source": [
    "npVal = np.array(0.0)\n",
    "chkVal = np.dot(A, B, out=npVal)\n",
    "print('type of npVal is ', type(npVal), ' and npVal = ', npVal)\n",
    "print('Typeof chkVal is ', type(chkVal), ' and chkVal is ', chkVal)"
   ]
  },
  {
   "cell_type": "code",
   "execution_count": 6,
   "metadata": {},
   "outputs": [
    {
     "name": "stdout",
     "output_type": "stream",
     "text": [
      "eleMult is:  [2 4 6]\n"
     ]
    }
   ],
   "source": [
    "npA = np.array([1, 2, 3])\n",
    "npB = np.array([2, 2, 2])\n",
    "eleMult = npA * npB\n",
    "print('eleMult is: ', eleMult)"
   ]
  },
  {
   "cell_type": "markdown",
   "metadata": {},
   "source": [
    "using @ operator to do dot product"
   ]
  },
  {
   "cell_type": "code",
   "execution_count": 7,
   "metadata": {},
   "outputs": [
    {
     "name": "stdout",
     "output_type": "stream",
     "text": [
      "dotProduct is:  12\n",
      "[[ 7 11]\n",
      " [14 22]]\n"
     ]
    }
   ],
   "source": [
    "dotProduct = npA @ npB\n",
    "print('dotProduct is: ', dotProduct)\n",
    "A = np.array([[1, 1], \n",
    "              [2, 2]])\n",
    "B = np.array([[3, 5], \n",
    "              [4, 6]])\n",
    "npDot = np.dot(A, B)\n",
    "print(npDot)"
   ]
  },
  {
   "cell_type": "markdown",
   "metadata": {},
   "source": [
    "Ses3B_dtypes\n"
   ]
  },
  {
   "cell_type": "code",
   "execution_count": 8,
   "metadata": {},
   "outputs": [],
   "source": [
    "import sys\n",
    "import platform"
   ]
  },
  {
   "cell_type": "code",
   "execution_count": 9,
   "metadata": {},
   "outputs": [
    {
     "name": "stdout",
     "output_type": "stream",
     "text": [
      "Python interpreter version running on Windows PE\n",
      "('64bit', 'WindowsPE')\n"
     ]
    }
   ],
   "source": [
    "print('Python interpreter version running on Windows PE')\n",
    "print(platform.architecture())"
   ]
  },
  {
   "cell_type": "code",
   "execution_count": 10,
   "metadata": {},
   "outputs": [],
   "source": [
    "class X:\n",
    "    def __init__(self, name):\n",
    "        self.name = name\n",
    "    \n",
    "    def __str__(self):\n",
    "      return 'I am am instance of class X\\n'  + 'My name is ' + self.name\n",
    "\n",
    "class Y:\n",
    "    def __init__(self, name):\n",
    "        self.name = name\n",
    "    \n",
    "    def __str__(self):\n",
    "      return 'I am am instance of class Y\\n'  + 'My name is ' + self.name\n",
    "\n",
    "class Z:\n",
    "    def __init__(self, name):\n",
    "        self.name = name\n",
    "    \n",
    "    def __str__(self):\n",
    "      return 'I am am instance of class Z\\n'  + 'My name is ' + self.name\n",
    "\n",
    "objX = X('ObjX')\n",
    "objY = Y('ObjY')\n",
    "objZ = Z('ObjZ')"
   ]
  },
  {
   "cell_type": "markdown",
   "metadata": {},
   "source": [
    "`np.object_`is a special dtype in NumPy that allows you to store arbitrary Python objects in NumPy arrays."
   ]
  },
  {
   "cell_type": "markdown",
   "metadata": {},
   "source": [
    "In this line, objX (an instance of class X) is wrapped as a NumPy object."
   ]
  },
  {
   "cell_type": "code",
   "execution_count": 11,
   "metadata": {},
   "outputs": [
    {
     "name": "stdout",
     "output_type": "stream",
     "text": [
      "\n",
      "About dtype object\n",
      "Type:  <class '__main__.X'>\n",
      "Value:  I am am instance of class X\n",
      "My name is ObjX\n"
     ]
    }
   ],
   "source": [
    "npObjX = np.object_(objX)\n",
    "print('\\nAbout dtype object')\n",
    "print('Type: ', type(npObjX))\n",
    "print('Value: ', npObjX)\n"
   ]
  },
  {
   "cell_type": "markdown",
   "metadata": {},
   "source": [
    "You create a NumPy array npObjArr of length 3 with dtype=object. This allows you to store arbitrary Python objects (in this case, the instances of X, Y, and Z) in the array"
   ]
  },
  {
   "cell_type": "code",
   "execution_count": 12,
   "metadata": {},
   "outputs": [],
   "source": [
    "npObjArr = np.ndarray(3, dtype=object)\n",
    "\n",
    "npObjArr[0] = objX\n",
    "npObjArr[1] = objY\n",
    "npObjArr[2] = objZ"
   ]
  },
  {
   "cell_type": "markdown",
   "metadata": {},
   "source": [
    "`itemsize`: This attribute returns the size (in bytes) of each element in the array. For object arrays, the item size is the size of the memory pointer to the object (which is platform-dependent, typically 8 bytes on 64-bit systems).\n",
    "\n",
    "On 64-bit systems, each pointer typically takes 8 bytes (64 bits).\n",
    "\n",
    "On 32-bit systems, each pointer takes 4 bytes (32 bits).\n",
    "\n",
    "When dealing with NumPy arrays of dtype=object, the itemsize refers to the size of the memory pointer that points to the object stored in the array, rather than the size of the object itself."
   ]
  },
  {
   "cell_type": "markdown",
   "metadata": {},
   "source": [
    "`size`: This attribute returns the total number of elements in the array"
   ]
  },
  {
   "cell_type": "markdown",
   "metadata": {},
   "source": [
    "The total size (in bytes) of the array can be computed by multiplying the size of the array by the itemsize."
   ]
  },
  {
   "cell_type": "code",
   "execution_count": 13,
   "metadata": {},
   "outputs": [
    {
     "name": "stdout",
     "output_type": "stream",
     "text": [
      "\n",
      "About NumPy array of objects\n",
      "Item size of objXArr is  8\n",
      "Number of elements in the npObjXArr is  3\n",
      "Total size in bytes, taken by npObjXArr is  24\n"
     ]
    }
   ],
   "source": [
    "print('\\nAbout NumPy array of objects')\n",
    "print('Item size of objXArr is ', npObjArr.itemsize)\n",
    "print('Number of elements in the npObjXArr is ', npObjArr.size)\n",
    "print('Total size in bytes, taken by npObjXArr is ', \n",
    "      npObjArr.size * npObjArr.itemsize)"
   ]
  },
  {
   "cell_type": "code",
   "execution_count": 14,
   "metadata": {},
   "outputs": [
    {
     "name": "stdout",
     "output_type": "stream",
     "text": [
      "\n",
      "Details of npObjArr[0]\n",
      "Type:  <class '__main__.X'>\n",
      "Value:  I am am instance of class X\n",
      "My name is ObjX\n",
      "\n",
      "Details of npObjArr[1]\n",
      "Type:  <class '__main__.Y'>\n",
      "Value:  I am am instance of class Y\n",
      "My name is ObjY\n",
      "\n",
      "Details of npObjArr[2]\n",
      "Type:  <class '__main__.Z'>\n",
      "Value:  I am am instance of class Z\n",
      "My name is ObjZ\n"
     ]
    }
   ],
   "source": [
    "for i in range(3):\n",
    "    print('\\nDetails of npObjArr[', i, ']', sep='')\n",
    "    print('Type: ', type(npObjArr[i]))\n",
    "    print('Value: ', npObjArr[i])"
   ]
  },
  {
   "cell_type": "markdown",
   "metadata": {},
   "source": [
    "Here we are working with the NumPy power function to compute 100^8 using different data types, specifically `np.int64` and `np.int32`"
   ]
  },
  {
   "cell_type": "markdown",
   "metadata": {},
   "source": [
    "The example highlights how integer overflow occurs in NumPy when using smaller integer types like int32, which does not happen with Python's built-in integers (since Python’s int can grow in size dynamically)"
   ]
  },
  {
   "cell_type": "markdown",
   "metadata": {},
   "source": [
    "Python’s built-in int type is **arbitrary-precision**, meaning it can grow dynamically to accommodate large values without causing overflow"
   ]
  },
  {
   "cell_type": "code",
   "execution_count": 15,
   "metadata": {},
   "outputs": [
    {
     "name": "stdout",
     "output_type": "stream",
     "text": [
      "\n",
      "About overflows in NumPy\n",
      "Value of 100^8 using int64 10000000000000000\n",
      "Value of 100^8 using int32 1874919424\n"
     ]
    }
   ],
   "source": [
    "# About Overflows in NumPy which does not happen with Python ints\n",
    "npPow64 = np.power(100, 8, dtype=np.int64)\n",
    "print('\\nAbout overflows in NumPy')\n",
    "print('Value of 100^8 using int64', npPow64)\n",
    "npPow32 = np.power(100, 8, dtype=np.int32)\n",
    "print('Value of 100^8 using int32', npPow32)\n"
   ]
  },
  {
   "cell_type": "code",
   "execution_count": 16,
   "metadata": {},
   "outputs": [
    {
     "name": "stdout",
     "output_type": "stream",
     "text": [
      "Value of 100^100 using npPow64 0\n",
      "Value of 100^100 using npPowF64 1e+200\n"
     ]
    }
   ],
   "source": [
    "# Incorrect even with 64-bit int, then float64 can be used instead\n",
    "npPow64 = np.power(100, 100, dtype=np.int64) \n",
    "print('Value of 100^100 using npPow64', npPow64)\n",
    "npPowF64 = np.power(100, 100, dtype=np.float64) \n",
    "print('Value of 100^100 using npPowF64', npPowF64)"
   ]
  },
  {
   "cell_type": "markdown",
   "metadata": {},
   "source": [
    " **byte order** (also known as **endianness**)"
   ]
  },
  {
   "cell_type": "markdown",
   "metadata": {},
   "source": [
    "Here, 'i2' specifies a signed 2-byte integer (or 16-bit integer). In NumPy, 'i' stands for an integer, and the number 2 specifies the size in bytes."
   ]
  },
  {
   "cell_type": "markdown",
   "metadata": {},
   "source": [
    "`dt.byteorder` gives the byte order (endianness) of the data type."
   ]
  },
  {
   "cell_type": "markdown",
   "metadata": {},
   "source": [
    "The byteorder attribute can return:\n",
    "\n",
    "`=`: Native endianness, which means the byte order is the same as the system’s architecture (depends on whether your machine uses little-endian or big-endian).\n",
    "\n",
    "`<`: Little-endian.\n",
    "\n",
    "`>`: Big-endian."
   ]
  },
  {
   "cell_type": "code",
   "execution_count": 17,
   "metadata": {},
   "outputs": [
    {
     "name": "stdout",
     "output_type": "stream",
     "text": [
      "Byte order of two bytes int is:  =\n",
      "Item size is  2\n"
     ]
    }
   ],
   "source": [
    "# About byteorder\n",
    "dt = np.dtype('i2') # An  integer with two bytes\n",
    "print('Byte order of two bytes int is: ', dt.byteorder) # Native endianess\n",
    "print('Item size is ', dt.itemsize)"
   ]
  },
  {
   "cell_type": "code",
   "execution_count": 18,
   "metadata": {},
   "outputs": [
    {
     "name": "stdout",
     "output_type": "stream",
     "text": [
      "Endianess:  =\n",
      "Endianess:  |\n",
      "System byteorder:  little\n",
      "<class 'numpy.dtypes.UIntDType'>\n",
      "Non-native byteorder is  >\n",
      "Native byteorder is  <\n"
     ]
    }
   ],
   "source": [
    "# Learn about endiness of the machine this is running on\n",
    "print('Endianess: ', np.dtype(np.uintc).byteorder)\n",
    "print('Endianess: ', np.dtype(np.ubyte).byteorder)\n",
    "\n",
    "print('System byteorder: ', sys.byteorder)\n",
    "\n",
    "intNonNative = np.dtype(np.uintc).newbyteorder('S')\n",
    "print(type(intNonNative))\n",
    "print('Non-native byteorder is ', intNonNative.byteorder)\n",
    "intNative = np.dtype(np.uintc).newbyteorder('S').newbyteorder('S')\n",
    "print('Native byteorder is ', intNative.byteorder)"
   ]
  },
  {
   "cell_type": "markdown",
   "metadata": {},
   "source": [
    "Ses3B_ndarrays_in_cls"
   ]
  },
  {
   "cell_type": "code",
   "execution_count": 19,
   "metadata": {},
   "outputs": [
    {
     "name": "stdout",
     "output_type": "stream",
     "text": [
      "[0 1 2 3]\n"
     ]
    }
   ],
   "source": [
    "import numpy as np\n",
    "\n",
    "a = np.array([0, 1, 2, 3])\n",
    "print(a)\n",
    "\n",
    "\n"
   ]
  },
  {
   "cell_type": "code",
   "execution_count": 20,
   "metadata": {},
   "outputs": [
    {
     "name": "stdout",
     "output_type": "stream",
     "text": [
      "[[0 1 2]\n",
      " [3 4 5]]\n",
      "(2, 3)\n",
      "2\n",
      "[0 1 2]\n",
      "[3 4 5]\n"
     ]
    }
   ],
   "source": [
    "b = np.array([[0, 1, 2], [3, 4, 5]])    # 2 x 3 array\n",
    "print(b)\n",
    "\n",
    "print(b.shape)\n",
    "print(b.ndim)\n",
    "print(b[0])\n",
    "print(b[1])\n"
   ]
  },
  {
   "cell_type": "code",
   "execution_count": 21,
   "metadata": {},
   "outputs": [
    {
     "name": "stdout",
     "output_type": "stream",
     "text": [
      "[0 1 2 3 4 5 6 7 8 9]\n",
      "[1. 2. 3.]\n",
      "[1.+2.j 3.+4.j 5.+6.j]\n",
      "complex128\n"
     ]
    }
   ],
   "source": [
    "a = np.arange(10) # 0 .. n-1  (!)\n",
    "print(a)\n",
    "\n",
    "aFloat = np.array([1, 2, 3], dtype=float)\n",
    "print(aFloat)\n",
    "\n",
    "aComplex = np.array([1+2j, 3+4j, 5+6*1j])\n",
    "print(aComplex)\n",
    "print(aComplex.dtype)\n",
    "\n"
   ]
  },
  {
   "cell_type": "markdown",
   "metadata": {},
   "source": [
    "Ses3B_endianess.py"
   ]
  },
  {
   "cell_type": "markdown",
   "metadata": {},
   "source": [
    "`id(arr)` returns the memory address of the array object `arr`. Each object in Python has a unique ID, which corresponds to the address of the object in memory."
   ]
  },
  {
   "cell_type": "code",
   "execution_count": 22,
   "metadata": {},
   "outputs": [
    {
     "name": "stdout",
     "output_type": "stream",
     "text": [
      "[0 1 2 3]\n",
      "id(arr) =  2338078241200\n"
     ]
    }
   ],
   "source": [
    "arr = np.array([0, 1, 2, 3])\n",
    "print(arr)\n",
    "print(\"id(arr) = \", id(arr))"
   ]
  },
  {
   "cell_type": "code",
   "execution_count": 23,
   "metadata": {},
   "outputs": [
    {
     "name": "stdout",
     "output_type": "stream",
     "text": [
      "[10  1  2  3]\n",
      "id(arr) =  2338078241200\n"
     ]
    }
   ],
   "source": [
    "# Individual elements of a NumPy array can be modified without changing its size\n",
    "arr[0] = 10\n",
    "print(arr)\n",
    "print(\"id(arr) = \", id(arr))"
   ]
  },
  {
   "cell_type": "markdown",
   "metadata": {},
   "source": [
    "**NumPy arrays** are of fixed size. This means that you cannot change the size of an array in place"
   ]
  },
  {
   "cell_type": "code",
   "execution_count": 24,
   "metadata": {},
   "outputs": [
    {
     "name": "stdout",
     "output_type": "stream",
     "text": [
      "[10  1  2  3  4]\n",
      "id(arr) =  2338078523536\n"
     ]
    }
   ],
   "source": [
    "# Adding a new element or changing the size of NumPy array creates a new array\n",
    "arr = np.append(arr, 4)\n",
    "print(arr)\n",
    "print(\"id(arr) = \", id(arr))\n"
   ]
  },
  {
   "cell_type": "markdown",
   "metadata": {},
   "source": [
    " the number will be represented in **little-endian** format, meaning the least significant byte comes first."
   ]
  },
  {
   "cell_type": "code",
   "execution_count": 25,
   "metadata": {},
   "outputs": [
    {
     "name": "stdout",
     "output_type": "stream",
     "text": [
      "value in npMyInt32 is  5\n",
      "Size of npMyInt32 is  4\n",
      "Binary contents of npMyInt32 is  b'\\x05\\x00\\x00\\x00'\n"
     ]
    }
   ],
   "source": [
    "# Let us understand the contents of different integer values in NumPy\n",
    "npMyInt32 = np.int32(5)\n",
    "print(\"value in npMyInt32 is \", npMyInt32)\n",
    "print(\"Size of npMyInt32 is \", npMyInt32.nbytes)\n",
    "print(\"Binary contents of npMyInt32 is \", npMyInt32.tobytes())"
   ]
  },
  {
   "cell_type": "markdown",
   "metadata": {},
   "source": [
    "Calculation of the bits:\n",
    "\n",
    "Two's Complement:\n",
    "\n",
    "1)First, find the binary representation of +2 in 64 bits:\n",
    "\n",
    "`00000000 00000000 00000000 00000000 00000000 00000000 00000000 00000010`.\n",
    "\n",
    "2)Invert All Bits:\n",
    "\n",
    "`11111111 11111111 11111111 11111111 11111111 11111111 11111111 11111101`\n",
    "\n",
    "3)Add 1 :\n",
    "`11111111 11111111 11111111 11111111 11111111 11111111 11111111 11111110`.\n",
    "\n",
    "`\\xfe` is the hex representation of the least significant byte `11111110`.\n",
    "\n",
    "`\\xff` represents `11111111`, which are the remaining 7 bytes.\n",
    "\n",
    "\n",
    "\n",
    "\n"
   ]
  },
  {
   "cell_type": "code",
   "execution_count": 26,
   "metadata": {},
   "outputs": [
    {
     "name": "stdout",
     "output_type": "stream",
     "text": [
      "value in npMyInt64 is  -2\n",
      "Size of npMyInt64 is  8\n",
      "Binary contents of npMyInt64 is  b'\\xfe\\xff\\xff\\xff\\xff\\xff\\xff\\xff'\n"
     ]
    }
   ],
   "source": [
    "npMyInt64 = np.int64(-2)\n",
    "print(\"value in npMyInt64 is \", npMyInt64)\n",
    "print(\"Size of npMyInt64 is \", npMyInt64.nbytes)\n",
    "print(\"Binary contents of npMyInt64 is \", npMyInt64.tobytes())"
   ]
  },
  {
   "cell_type": "code",
   "execution_count": 27,
   "metadata": {},
   "outputs": [
    {
     "name": "stdout",
     "output_type": "stream",
     "text": [
      "little\n"
     ]
    }
   ],
   "source": [
    "print(sys.byteorder)"
   ]
  },
  {
   "cell_type": "markdown",
   "metadata": {},
   "source": [
    " Different values of the byteorder attribute of NumPy\n",
    " byteorder is an attribute of NumPy arrays (ndarray) and data types (dtype).\n",
    "\n",
    "‘=’ : native \n",
    "\n",
    "‘<’ : little-endian\n",
    "\n",
    "‘>’ : big-endian\n",
    "\n",
    "‘|’   : not applicable"
   ]
  },
  {
   "cell_type": "markdown",
   "metadata": {},
   "source": [
    "`i1` represents a signed 8-bit integer in NumPy"
   ]
  },
  {
   "cell_type": "markdown",
   "metadata": {},
   "source": [
    "However, for a single byte (like i1), endianness is irrelevant because a single byte is the smallest possible unit of data. There is no need to order bytes differently since there's only one byte."
   ]
  },
  {
   "cell_type": "code",
   "execution_count": 28,
   "metadata": {},
   "outputs": [
    {
     "name": "stdout",
     "output_type": "stream",
     "text": [
      "Endianess of a byte:  |\n"
     ]
    }
   ],
   "source": [
    "# Is endianess relevant for a byte value?\n",
    "print(\"Endianess of a byte: \", np.dtype('i1').byteorder)"
   ]
  },
  {
   "cell_type": "code",
   "execution_count": 29,
   "metadata": {},
   "outputs": [
    {
     "name": "stdout",
     "output_type": "stream",
     "text": [
      "Endianess of a short or int16:  =\n"
     ]
    }
   ],
   "source": [
    "\n",
    "# Is endianess relevant for a byte value?\n",
    "print(\"Endianess of a short or int16: \", np.dtype('i2').byteorder)"
   ]
  },
  {
   "cell_type": "code",
   "execution_count": 30,
   "metadata": {},
   "outputs": [],
   "source": [
    "npMyInt32 = np.int32(8)"
   ]
  },
  {
   "cell_type": "code",
   "execution_count": 31,
   "metadata": {},
   "outputs": [
    {
     "name": "stdout",
     "output_type": "stream",
     "text": [
      "Value in npMyInt32 is  8\n",
      "Value in npMyInt32 in hex is  0x8\n"
     ]
    }
   ],
   "source": [
    "print(\"Value in npMyInt32 is \", npMyInt32)\n",
    "print(\"Value in npMyInt32 in hex is \", hex(npMyInt32))"
   ]
  },
  {
   "cell_type": "code",
   "execution_count": 32,
   "metadata": {},
   "outputs": [
    {
     "name": "stdout",
     "output_type": "stream",
     "text": [
      "Endianess or byteorder of npMyInt32 is  =\n",
      "Print the byte contents of npMyInt32:  b'\\x08\\x00\\x00\\x00'\n"
     ]
    }
   ],
   "source": [
    "print(\"Endianess or byteorder of npMyInt32 is \", npMyInt32.dtype.byteorder)\n",
    "print(\"Print the byte contents of npMyInt32: \", npMyInt32.tobytes())"
   ]
  },
  {
   "cell_type": "markdown",
   "metadata": {},
   "source": [
    " After reversing:\n",
    "\n",
    " `00001000 00000000 00000000 00000000`\n",
    "\n",
    " **2^27 = 134217728**\n",
    "\n",
    "Because the binary digit `1`is located in the 27th position (counting from the right, starting at position 0), which is equivalent to `2^27`. All the other bits are zeros.\n",
    "\n"
   ]
  },
  {
   "cell_type": "code",
   "execution_count": 33,
   "metadata": {},
   "outputs": [
    {
     "name": "stdout",
     "output_type": "stream",
     "text": [
      "Value in npMyInt32New is  134217728\n",
      "Value in npMyInt32New in hex is  0x8000000\n",
      "Swapped byte contents of npMyInt32New:  b'\\x00\\x00\\x00\\x08'\n"
     ]
    }
   ],
   "source": [
    "\n",
    "# Change the byteorder of the NumPy variable (in-place is not allowed)\n",
    "npMyInt32New = npMyInt32.byteswap()\n",
    "print(\"Value in npMyInt32New is \", npMyInt32New)\n",
    "print(\"Value in npMyInt32New in hex is \", hex(npMyInt32New))\n",
    "\n",
    "print(\"Swapped byte contents of npMyInt32New: \", npMyInt32New.tobytes())"
   ]
  },
  {
   "cell_type": "code",
   "execution_count": 34,
   "metadata": {},
   "outputs": [
    {
     "name": "stdout",
     "output_type": "stream",
     "text": [
      "Non-native byteorder is  >\n",
      "Native byteorder is  <\n"
     ]
    }
   ],
   "source": [
    "# Byteswap in-place is not allowed on a scalar value in NumPy\n",
    "#npMyInt32.byteswap(inplace=True)\n",
    "\n",
    "intNonNative = np.dtype(np.uintc).newbyteorder('S')\n",
    "print('Non-native byteorder is ', intNonNative.byteorder)\n",
    "intNative = np.dtype(np.uintc).newbyteorder('S').newbyteorder('S')\n",
    "print('Native byteorder is ', intNative.byteorder)"
   ]
  },
  {
   "cell_type": "markdown",
   "metadata": {},
   "source": [
    "Ses3B_in_SecA_cls-.py"
   ]
  },
  {
   "cell_type": "code",
   "execution_count": 35,
   "metadata": {},
   "outputs": [],
   "source": [
    "import numpy as np\n",
    "import sys\n",
    "import platform"
   ]
  },
  {
   "cell_type": "code",
   "execution_count": 36,
   "metadata": {},
   "outputs": [
    {
     "name": "stdout",
     "output_type": "stream",
     "text": [
      "Python interpreter version running on Windows PE\n",
      "('64bit', 'WindowsPE')\n"
     ]
    }
   ],
   "source": [
    "print('Python interpreter version running on Windows PE')\n",
    "print(platform.architecture())\n"
   ]
  },
  {
   "cell_type": "code",
   "execution_count": 37,
   "metadata": {},
   "outputs": [
    {
     "name": "stdout",
     "output_type": "stream",
     "text": [
      "I am am instance of class X\n",
      "My name is ObjX\n"
     ]
    }
   ],
   "source": [
    "class X:\n",
    "    def __init__(self, name):\n",
    "        self.name = name\n",
    "    \n",
    "    def __str__(self):\n",
    "      return 'I am am instance of class X\\n'  + 'My name is ' + self.name\n",
    "\n",
    "class Y:\n",
    "    def __init__(self, name):\n",
    "        self.name = name\n",
    "    \n",
    "    def __str__(self):\n",
    "      return 'I am am instance of class Y\\n'  + 'My name is ' + self.name\n",
    "\n",
    "class Z:\n",
    "    def __init__(self, name):\n",
    "        self.name = name\n",
    "    \n",
    "    def __str__(self):\n",
    "      return 'I am am instance of class Z\\n'  + 'My name is ' + self.name\n",
    "\n",
    "objX = X('ObjX')\n",
    "objY = Y('ObjY')\n",
    "objZ = Z('ObjZ')\n",
    "\n",
    "print(objX)"
   ]
  },
  {
   "cell_type": "markdown",
   "metadata": {},
   "source": [
    "Storing the objects in an array"
   ]
  },
  {
   "cell_type": "code",
   "execution_count": 38,
   "metadata": {},
   "outputs": [],
   "source": [
    "\n",
    "npObjArr = np.ndarray(3, dtype=object)\n",
    "npObjArr[0] = objX\n",
    "npObjArr[1] = objY\n",
    "npObjArr[2] = objZ"
   ]
  },
  {
   "cell_type": "code",
   "execution_count": 39,
   "metadata": {},
   "outputs": [
    {
     "name": "stdout",
     "output_type": "stream",
     "text": [
      "[0 1 2 3]\n",
      "id(arr) =  2338078244464\n"
     ]
    }
   ],
   "source": [
    "arr = np.array([0, 1, 2, 3])\n",
    "print(arr)\n",
    "print(\"id(arr) = \", id(arr))"
   ]
  },
  {
   "cell_type": "code",
   "execution_count": 40,
   "metadata": {},
   "outputs": [
    {
     "name": "stdout",
     "output_type": "stream",
     "text": [
      "[10  1  2  3]\n",
      "id(arr) =  2338078244464\n"
     ]
    }
   ],
   "source": [
    "# Individual elements of a NumPy array can be modified without changing its size\n",
    "arr[0] = 10\n",
    "print(arr)\n",
    "print(\"id(arr) = \", id(arr))"
   ]
  },
  {
   "cell_type": "code",
   "execution_count": 41,
   "metadata": {},
   "outputs": [
    {
     "name": "stdout",
     "output_type": "stream",
     "text": [
      "[10  1  2  3  4]\n",
      "id(arr) =  2338078523824\n"
     ]
    }
   ],
   "source": [
    "# Adding a new element or changing the size of NumPy array creates a new array\n",
    "arr = np.append(arr, 4)\n",
    "print(arr)\n",
    "print(\"id(arr) = \", id(arr))"
   ]
  },
  {
   "cell_type": "code",
   "execution_count": 42,
   "metadata": {},
   "outputs": [
    {
     "name": "stdout",
     "output_type": "stream",
     "text": [
      "value in npMyInt32 is  5\n",
      "Size of npMyInt32 is  4\n",
      "Binary contents of npMyInt32 is  b'\\x05\\x00\\x00\\x00'\n"
     ]
    }
   ],
   "source": [
    "# Let us understand the contents of different integer values in NumPy\n",
    "npMyInt32 = np.int32(5)\n",
    "print(\"value in npMyInt32 is \", npMyInt32)\n",
    "print(\"Size of npMyInt32 is \", npMyInt32.nbytes)\n",
    "print(\"Binary contents of npMyInt32 is \", npMyInt32.tobytes())"
   ]
  },
  {
   "cell_type": "code",
   "execution_count": 43,
   "metadata": {},
   "outputs": [
    {
     "name": "stdout",
     "output_type": "stream",
     "text": [
      "value in npMyInt64 is  -2\n",
      "Size of npMyInt64 is  8\n",
      "Binary contents of npMyInt64 is  b'\\xfe\\xff\\xff\\xff\\xff\\xff\\xff\\xff'\n"
     ]
    }
   ],
   "source": [
    "npMyInt64 = np.int64(-2)\n",
    "print(\"value in npMyInt64 is \", npMyInt64)\n",
    "print(\"Size of npMyInt64 is \", npMyInt64.nbytes)\n",
    "print(\"Binary contents of npMyInt64 is \", npMyInt64.tobytes())"
   ]
  },
  {
   "cell_type": "markdown",
   "metadata": {},
   "source": [
    "Ses3B_in_SecC_cls-.py"
   ]
  },
  {
   "cell_type": "code",
   "execution_count": 47,
   "metadata": {},
   "outputs": [
    {
     "name": "stdout",
     "output_type": "stream",
     "text": [
      "Python interpreter version running on Windows PE\n",
      "('64bit', 'WindowsPE')\n",
      "\n",
      "About dtype object\n",
      "Type:  <class '__main__.X'>\n",
      "Value:  I am am instance of class X\n",
      "My name is ObjX\n"
     ]
    }
   ],
   "source": [
    "import numpy as np\n",
    "import sys\n",
    "import platform\n",
    "\n",
    "print('Python interpreter version running on Windows PE')\n",
    "print(platform.architecture())\n",
    "\n",
    "class X:\n",
    "    def __init__(self, name):\n",
    "        self.name = name\n",
    "    \n",
    "    def __str__(self):\n",
    "      return 'I am am instance of class X\\n'  + 'My name is ' + self.name\n",
    "\n",
    "class Y:\n",
    "    def __init__(self, name):\n",
    "        self.name = name\n",
    "    \n",
    "    def __str__(self):\n",
    "      return 'I am am instance of class Y\\n'  + 'My name is ' + self.name\n",
    "\n",
    "class Z:\n",
    "    def __init__(self, name):\n",
    "        self.name = name\n",
    "    \n",
    "    def __str__(self):\n",
    "      return 'I am am instance of class Z\\n'  + 'My name is ' + self.name\n",
    "\n",
    "\n",
    "objX = X('ObjX')\n",
    "objY = Y('ObjY')\n",
    "objZ = Z('ObjZ')\n",
    "\n",
    "npObjX = np.object_(objX)\n",
    "print('\\nAbout dtype object')\n",
    "print('Type: ', type(npObjX))\n",
    "print('Value: ', npObjX)"
   ]
  },
  {
   "cell_type": "code",
   "execution_count": 49,
   "metadata": {},
   "outputs": [],
   "source": [
    "npObjArr = np.ndarray(3, dtype=object)\n",
    "\n",
    "npObjArr[0] = objX\n",
    "npObjArr[1] = objY\n",
    "npObjArr[2] = objZ"
   ]
  },
  {
   "cell_type": "markdown",
   "metadata": {},
   "source": [
    "`itemsize` typically returns the size of a pointer to an object in memory, not the size of the object itself. This is usually the same size as a reference (or pointer) on the underlying platform (e.g., 4 bytes on a 32-bit system and 8 bytes on a 64-bit system).\n"
   ]
  },
  {
   "cell_type": "code",
   "execution_count": 50,
   "metadata": {},
   "outputs": [
    {
     "name": "stdout",
     "output_type": "stream",
     "text": [
      "\n",
      "About NumPy array of objects\n",
      "Item size of objXArr is  8\n",
      "Number of elements in the npObjXArr is  3\n",
      "Total size in bytes, taken by npObjXArr is  24\n"
     ]
    }
   ],
   "source": [
    "print('\\nAbout NumPy array of objects')\n",
    "print('Item size of objXArr is ', npObjArr.itemsize)\n",
    "print('Number of elements in the npObjXArr is ', npObjArr.size)\n",
    "print('Total size in bytes, taken by npObjXArr is ', \n",
    "      npObjArr.size * npObjArr.itemsize)"
   ]
  },
  {
   "cell_type": "code",
   "execution_count": null,
   "metadata": {},
   "outputs": [],
   "source": []
  }
 ],
 "metadata": {
  "kernelspec": {
   "display_name": "Python 3",
   "language": "python",
   "name": "python3"
  },
  "language_info": {
   "codemirror_mode": {
    "name": "ipython",
    "version": 3
   },
   "file_extension": ".py",
   "mimetype": "text/x-python",
   "name": "python",
   "nbconvert_exporter": "python",
   "pygments_lexer": "ipython3",
   "version": "3.11.0"
  }
 },
 "nbformat": 4,
 "nbformat_minor": 2
}
